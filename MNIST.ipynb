{
 "cells": [
  {
   "cell_type": "code",
   "execution_count": null,
   "id": "c4956f66-902e-4c9c-bc7e-f50cd2764c97",
   "metadata": {},
   "outputs": [],
   "source": [
    "import torch\n",
    "import torch.nn as nn\n",
    "import torch.optim as optim\n",
    "from torchvision import datasets, transforms\n",
    "from mda import MDAHead"
   ]
  },
  {
   "cell_type": "code",
   "execution_count": null,
   "id": "50cdb64c-a60a-4205-adfa-72da8cef1bc4",
   "metadata": {},
   "outputs": [],
   "source": [
    "# --- Data ---\n",
    "transform = transforms.Compose([\n",
    "    transforms.ToTensor(),\n",
    "    transforms.Normalize((0.1307,), (0.3081,))\n",
    "])\n",
    "train_loader = torch.utils.data.DataLoader(\n",
    "    datasets.MNIST('.', train=True, download=True, transform=transform),\n",
    "    batch_size=64, shuffle=True\n",
    ")\n",
    "test_loader = torch.utils.data.DataLoader(\n",
    "    datasets.MNIST('.', train=False, transform=transform),\n",
    "    batch_size=1000, shuffle=False\n",
    ")"
   ]
  },
  {
   "cell_type": "code",
   "execution_count": null,
   "id": "27c54500-d921-485a-893c-c0939db1999f",
   "metadata": {},
   "outputs": [],
   "source": [
    "class Net(nn.Module):\n",
    "    def __init__(self):\n",
    "        super().__init__()\n",
    "        self.fc1 = nn.Linear(28*28, 128)\n",
    "        self.fc2 = nn.Linear(128, 2)\n",
    "        self.mda = MDAHead(d=2, num_classes=10, K=1)\n",
    "\n",
    "    def encode(self, X):\n",
    "        x = X.view(-1, 28*28)\n",
    "        h = torch.relu(self.fc1(x))\n",
    "        return self.fc2(h)                # z\n",
    "\n",
    "    def forward(self, X):\n",
    "        z = self.encode(X)\n",
    "        return self.mda(z)               # -> class logits"
   ]
  },
  {
   "cell_type": "code",
   "execution_count": null,
   "id": "4e3d5bea",
   "metadata": {},
   "outputs": [],
   "source": [
    "device = torch.device('cuda' if torch.cuda.is_available() else 'cpu')\n",
    "model = Net().to(device)\n",
    "criterion = nn.CrossEntropyLoss()\n",
    "#opt = torch.optim.Adam(list(model.fc1.parameters()) + list(model.fc2.parameters()))\n",
    "opt = torch.optim.Adam(model.parameters())"
   ]
  },
  {
   "cell_type": "code",
   "execution_count": null,
   "id": "bdb66d6b-8295-45d0-97b8-497a9e70937c",
   "metadata": {},
   "outputs": [],
   "source": [
    "for epoch in range(3):\n",
    "    model.train()\n",
    "    for X, y in train_loader:\n",
    "        X, y = X.to(device), y.to(device)\n",
    "        opt.zero_grad()\n",
    "        logits = model(X)\n",
    "        loss = criterion(logits, y)\n",
    "        loss.backward()\n",
    "        opt.step()\n",
    "\n",
    "    model.mda.em_update(model.encode, train_loader, device)\n",
    "\n",
    "    print(f\"Epoch {epoch+1}: loss={loss.item():.4f}\")"
   ]
  },
  {
   "cell_type": "code",
   "execution_count": null,
   "id": "1719e8d3-4378-4fc8-b7c3-0c3ef281cf5b",
   "metadata": {},
   "outputs": [],
   "source": [
    "# --- Evaluation ---\n",
    "model.eval()\n",
    "correct, total = 0, 0\n",
    "with torch.no_grad():\n",
    "    for X, y in test_loader:\n",
    "        X, y = X.to(device), y.to(device)\n",
    "        preds = model(X).argmax(dim=1)\n",
    "        correct += (preds == y).sum().item()\n",
    "        total += y.size(0)\n",
    "print(f\"Test accuracy: {100 * correct / total:.2f}%\")"
   ]
  },
  {
   "cell_type": "code",
   "execution_count": null,
   "id": "220328a6-6c71-4cac-8a09-5da50137d109",
   "metadata": {},
   "outputs": [],
   "source": [
    "import matplotlib.pyplot as plt\n",
    "import numpy as np\n",
    "\n",
    "model.eval()"
   ]
  },
  {
   "cell_type": "code",
   "execution_count": null,
   "id": "796c0a24",
   "metadata": {},
   "outputs": [],
   "source": [
    "# collect a small random subset of embeddings\n",
    "emb_list, y_list = [], []\n",
    "max_points = int(len(train_loader.dataset) * 0.05)\n",
    "\n",
    "with torch.no_grad():\n",
    "    for X, y in train_loader:\n",
    "        X, y = X.to(device), y.to(device)\n",
    "        x_flat = X.view(-1, 28*28)\n",
    "        h1 = torch.relu(model.fc1(x_flat))\n",
    "        z = model.fc2(h1)       # encoder output (2D)\n",
    "        emb_list.append(z)\n",
    "        y_list.append(y)\n",
    "        if sum(t.shape[0] for t in emb_list) >= max_points:\n",
    "            break\n",
    "\n",
    "Z = torch.cat(emb_list, dim=0).cpu().numpy()[:max_points]\n",
    "Y = torch.cat(y_list, dim=0).cpu().numpy()[:max_points]"
   ]
  },
  {
   "cell_type": "code",
   "execution_count": null,
   "id": "aa92c2ee",
   "metadata": {},
   "outputs": [],
   "source": [
    "mu = model.mda.mu.detach().cpu()  # (C, K, D) or (C*K, D)"
   ]
  },
  {
   "cell_type": "code",
   "execution_count": null,
   "id": "030ea023",
   "metadata": {},
   "outputs": [],
   "source": [
    "plt.figure(figsize=(7,6))\n",
    "cmap = plt.get_cmap(\"tab10\", 10)\n",
    "markers = ['o','s','^','v','<','>','P','X','D','*']\n",
    "\n",
    "for c in range(10):\n",
    "    idx = (Y == c)\n",
    "    plt.scatter(Z[idx,0], Z[idx,1], s=8, alpha=0.6,\n",
    "                c=[cmap(c)], marker=markers[c], label=f\"{c}\")\n",
    "    for k in range(mu.shape[1]):\n",
    "        m = mu[c, k]\n",
    "        plt.scatter(m[0], m[1], s=100, marker='X',\n",
    "                    c=[cmap(c)], edgecolor='k', linewidths=1.2)\n",
    "        #plt.text(m[0]-.1, m[1]-.5, f\"{c}\", fontsize=9, weight=\"bold\")\n",
    "\n",
    "plt.title(\"Deep MDA on MNIST: sampled training embeddings\")\n",
    "plt.xlabel(\"Embedding dim 1\")\n",
    "plt.ylabel(\"Embedding dim 2\")\n",
    "plt.legend(fontsize=8, ncol=2, frameon=False)\n",
    "plt.tight_layout()\n",
    "plt.show()"
   ]
  }
 ],
 "metadata": {
  "kernelspec": {
   "display_name": "mda",
   "language": "python",
   "name": "python3"
  },
  "language_info": {
   "codemirror_mode": {
    "name": "ipython",
    "version": 3
   },
   "file_extension": ".py",
   "mimetype": "text/x-python",
   "name": "python",
   "nbconvert_exporter": "python",
   "pygments_lexer": "ipython3",
   "version": "3.12.3"
  },
  "vscode": {
   "interpreter": {
    "hash": "5828cde9504051a95539f11701fe4fe633331e3e80ce955880f142f23888e20c"
   }
  }
 },
 "nbformat": 4,
 "nbformat_minor": 5
}
